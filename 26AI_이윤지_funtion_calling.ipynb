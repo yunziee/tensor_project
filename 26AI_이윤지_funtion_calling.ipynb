{
 "cells": [
  {
   "cell_type": "code",
   "execution_count": 9,
   "id": "24291e2f",
   "metadata": {},
   "outputs": [],
   "source": [
    "from dotenv import load_dotenv\n",
    "import os\n",
    "from openai import OpenAI\n",
    "\n",
    "load_dotenv()\n",
    "OPENAI_API_KEY = os.getenv('OPENAI_API_KEY')\n",
    "\n",
    "client = OpenAI(api_key=OPENAI_API_KEY)"
   ]
  },
  {
   "cell_type": "code",
   "execution_count": 10,
   "id": "68dbfac5",
   "metadata": {},
   "outputs": [],
   "source": [
    "# 함수 정의\n",
    "\n",
    "from datetime import datetime\n",
    "\n",
    "def calculate_age(birthdate):\n",
    "    \n",
    "    birth = datetime.strptime(birthdate, \"%Y-%m-%d\")\n",
    "    today = datetime.today()\n",
    "    age = today.year - birth.year\n",
    "    # 아직 생일이 안 지났으면 1살 빼기\n",
    "    if (today.month, today.day) < (birth.month, birth.day):\n",
    "        age -= 1\n",
    "    return age\n",
    "\n",
    "def convert_currency(amount, rate):\n",
    "    return round(amount * rate, 2)\n",
    "\n",
    "def calculate_bmi(height, weight):\n",
    "    # cm를 m로 변환\n",
    "    height_m = height / 100 \n",
    "    bmi = weight / (height_m ** 2)\n",
    "    return round(bmi, 2)"
   ]
  },
  {
   "cell_type": "code",
   "execution_count": 11,
   "id": "524adafd",
   "metadata": {},
   "outputs": [],
   "source": [
    "tools = [\n",
    "    {\n",
    "        \"type\": \"function\",\n",
    "        \"name\": \"calculate_age\",\n",
    "        \"description\": \"YYYY-MM-DD 형식으로 만 나이를 계산합니다.\",\n",
    "        \"parameters\": {\n",
    "            \"type\": \"object\",\n",
    "            \"properties\": {\n",
    "                \"birthdate\": {\n",
    "                    \"type\": \"string\",\n",
    "                    \"description\": \"생년월일 (YYYY-MM-DD)\"\n",
    "                }\n",
    "            },\n",
    "            \"required\": [\"birthdate\"],\n",
    "            \"additionalProperties\": False\n",
    "        }\n",
    "    },\n",
    "    {\n",
    "        \"type\": \"function\",\n",
    "        \"name\": \"convert_currency\",\n",
    "        \"description\": \"금액과 환율로 환전 결과를 계산합니다.\",\n",
    "        \"parameters\": {\n",
    "            \"type\": \"object\",\n",
    "            \"properties\": {\n",
    "                \"amount\": {\"type\": \"number\", \"description\": \"변환할 금액\"},\n",
    "                \"rate\": {\"type\": \"number\", \"description\": \"적용할 환율\"}\n",
    "            },\n",
    "            \"required\": [\"amount\", \"rate\"],\n",
    "            \"additionalProperties\": False\n",
    "        }\n",
    "    },\n",
    "    {\n",
    "        \"type\": \"function\",\n",
    "        \"name\": \"calculate_bmi\",\n",
    "        \"description\": \"키(cm)와 몸무게(kg)로 BMI를 계산합니다.\",\n",
    "        \"parameters\": {\n",
    "            \"type\": \"object\",\n",
    "            \"properties\": {\n",
    "                \"height\": {\"type\": \"number\", \"description\": \"키(cm)\"},\n",
    "                \"weight\": {\"type\": \"number\", \"description\": \"몸무게(kg)\"}\n",
    "            },\n",
    "            \"required\": [\"height\", \"weight\"],\n",
    "            \"additionalProperties\": False\n",
    "        }\n",
    "    }\n",
    "]"
   ]
  },
  {
   "cell_type": "code",
   "execution_count": 12,
   "id": "53b6c0cb",
   "metadata": {},
   "outputs": [],
   "source": [
    "input_msgs = [\n",
    "        {\"role\": \"user\", \"content\": \"2010-10-03생의 만 나이는?\"},\n",
    "        {\"role\": \"user\", \"content\": \"500 달러를 원화로 바꿔 줘 (환율 1330원 적용)\"},\n",
    "        {\"role\": \"user\", \"content\": \"키 185cm, 몸무게 70kg의 BMI는?\"}\n",
    "    ]\n",
    "\n",
    "response = client.responses.create(\n",
    "    model=\"gpt-4.1\",\n",
    "    tools=tools,\n",
    "    input=input_msgs\n",
    ")"
   ]
  },
  {
   "cell_type": "code",
   "execution_count": 13,
   "id": "6c6ad4dd",
   "metadata": {},
   "outputs": [
    {
     "data": {
      "text/plain": [
       "[ResponseFunctionToolCall(arguments='{\"birthdate\":\"2010-10-03\"}', call_id='call_xL8jTBX9izQ4saNIME8oaBpB', name='calculate_age', type='function_call', id='fc_685c9a035174819b8a818ae3ad4b02aa0646a6cd74c54e2d', status='completed'),\n",
       " ResponseFunctionToolCall(arguments='{\"amount\":500,\"rate\":1330}', call_id='call_86SKkj2zGaCjs3ckMSTtxLvy', name='convert_currency', type='function_call', id='fc_685c9a036b18819b8bd8ba09060214da0646a6cd74c54e2d', status='completed'),\n",
       " ResponseFunctionToolCall(arguments='{\"height\":185,\"weight\":70}', call_id='call_fY3LNgOjfA2QSi9sTG07Gzan', name='calculate_bmi', type='function_call', id='fc_685c9a038398819b84d02ee00d7fbb730646a6cd74c54e2d', status='completed')]"
      ]
     },
     "execution_count": 13,
     "metadata": {},
     "output_type": "execute_result"
    }
   ],
   "source": [
    "response.output"
   ]
  },
  {
   "cell_type": "code",
   "execution_count": 14,
   "id": "1a00a95e",
   "metadata": {},
   "outputs": [],
   "source": [
    "import json\n",
    "\n",
    "tool_call1 = response.output[0]\n",
    "args1 = json.loads(tool_call1.arguments)\n",
    "\n",
    "tool_call2 = response.output[1]\n",
    "args2 = json.loads(tool_call2.arguments)\n",
    "\n",
    "tool_call3 = response.output[2]\n",
    "args3 = json.loads(tool_call3.arguments)\n",
    "\n",
    "tool_calls = response.output\n",
    "\n",
    "result1 = calculate_age(args1['birthdate'])\n",
    "result2 = convert_currency(\n",
    "    args2['amount'],\n",
    "    args2['rate']\n",
    ")\n",
    "result3 = calculate_bmi(args3['height'], args3['weight'])"
   ]
  },
  {
   "cell_type": "code",
   "execution_count": 15,
   "id": "0918173b",
   "metadata": {},
   "outputs": [
    {
     "name": "stdout",
     "output_type": "stream",
     "text": [
      "요청하신 정보는 다음과 같습니다:\n",
      "\n",
      "1. 2010-10-03생의 만 나이: 14세입니다.\n",
      "2. 500달러를 원화(환율 1330원)로 환전한 금액: 665,000원입니다.\n",
      "3. 키 185cm, 몸무게 70kg의 BMI: 20.45입니다. (정상 체중 범위입니다)\n"
     ]
    }
   ],
   "source": [
    "function_outputs = [\n",
    "    {\n",
    "        'type': 'function_call_output',\n",
    "        'call_id': str(tool_call1.call_id),\n",
    "        'output': str(result1)\n",
    "    },\n",
    "    {\n",
    "        'type': 'function_call_output',\n",
    "        'call_id': str(tool_call2.call_id),\n",
    "        'output': str(result2)\n",
    "    },\n",
    "    {\n",
    "        'type': 'function_call_output',\n",
    "        'call_id': str(tool_call3.call_id),\n",
    "        'output': str(result3)\n",
    "    }\n",
    "]\n",
    "\n",
    "final_input_msgs = input_msgs + list(tool_calls) + function_outputs\n",
    "\n",
    "# 최종 응답 요청\n",
    "response_2 = client.responses.create(\n",
    "    model=\"gpt-4.1\",\n",
    "    input=final_input_msgs,\n",
    "    tools=tools,\n",
    ")\n",
    "\n",
    "print(response_2.output_text)"
   ]
  }
 ],
 "metadata": {
  "kernelspec": {
   "display_name": "Python 3",
   "language": "python",
   "name": "python3"
  },
  "language_info": {
   "codemirror_mode": {
    "name": "ipython",
    "version": 3
   },
   "file_extension": ".py",
   "mimetype": "text/x-python",
   "name": "python",
   "nbconvert_exporter": "python",
   "pygments_lexer": "ipython3",
   "version": "3.9.13"
  }
 },
 "nbformat": 4,
 "nbformat_minor": 5
}
