{
 "cells": [
  {
   "cell_type": "code",
   "execution_count": null,
   "id": "cecdad79",
   "metadata": {},
   "outputs": [
    {
     "name": "stdout",
     "output_type": "stream",
     "text": [
      "file-2RmWSjR5STnJxWVZVnE6aW\n"
     ]
    }
   ],
   "source": [
    "import requests\n",
    "from io import BytesIO\n",
    "# from openai import OpenAI\n",
    "\n",
    "# client = OpenAI()\n",
    "\n",
    "def create_file(client, file_path):\n",
    "    if file_path.startswith(\"http://\") or file_path.startswith(\"https://\"):\n",
    "        # Download the file content from the URL\n",
    "        response = requests.get(file_path)\n",
    "        file_content = BytesIO(response.content)\n",
    "        file_name = file_path.split(\"/\")[-1]\n",
    "        file_tuple = (file_name, file_content)\n",
    "        result = client.files.create(\n",
    "            file=file_tuple,\n",
    "            purpose=\"assistants\"\n",
    "    )\n",
    "    else:\n",
    "        # Handle local file path\n",
    "        with open(file_path, \"rb\") as file_content:\n",
    "            result = client.files.create(\n",
    "                file=file_content,\n",
    "                purpose=\"assistants\"\n",
    "                )\n",
    "    print(result.id)\n",
    "    return result.id\n",
    "\n",
    "# Replace with your own file path or URL\n",
    "\n",
    "file_id = create_file(client, \"./datas/howto-sockets.pdf\")"
   ]
  },
  {
   "cell_type": "code",
   "execution_count": 2,
   "id": "4fc66622",
   "metadata": {},
   "outputs": [
    {
     "name": "stdout",
     "output_type": "stream",
     "text": [
      "vs_685cc7b331c88191881fe9376c4fe1ae\n"
     ]
    }
   ],
   "source": [
    "vector_store = client.vector_stores.create(\n",
    "    name=\"knowledge_base\"\n",
    "    )\n",
    "\n",
    "print(vector_store.id)"
   ]
  },
  {
   "cell_type": "code",
   "execution_count": 4,
   "id": "7b8f99c7",
   "metadata": {},
   "outputs": [
    {
     "data": {
      "text/plain": [
       "VectorStoreFile(id='file-2RmWSjR5STnJxWVZVnE6aW', created_at=1750911024, last_error=None, object='vector_store.file', status='in_progress', usage_bytes=0, vector_store_id='vs_685cc7b331c88191881fe9376c4fe1ae', attributes={}, chunking_strategy=StaticFileChunkingStrategyObject(static=StaticFileChunkingStrategy(chunk_overlap_tokens=400, max_chunk_size_tokens=800), type='static'))"
      ]
     },
     "execution_count": 4,
     "metadata": {},
     "output_type": "execute_result"
    }
   ],
   "source": [
    "client.vector_stores.files.create(\n",
    "    vector_store_id=vector_store.id,\n",
    "    file_id=file_id\n",
    "    )"
   ]
  },
  {
   "cell_type": "code",
   "execution_count": 5,
   "id": "e74fdb22",
   "metadata": {},
   "outputs": [
    {
     "name": "stdout",
     "output_type": "stream",
     "text": [
      "SyncCursorPage[VectorStoreFile](data=[VectorStoreFile(id='file-2RmWSjR5STnJxWVZVnE6aW', created_at=1750910899, last_error=None, object='vector_store.file', status='completed', usage_bytes=29112, vector_store_id='vs_685cc7b331c88191881fe9376c4fe1ae', attributes={}, chunking_strategy=StaticFileChunkingStrategyObject(static=StaticFileChunkingStrategy(chunk_overlap_tokens=400, max_chunk_size_tokens=800), type='static'))], has_more=False, object='list', first_id='file-2RmWSjR5STnJxWVZVnE6aW', last_id='file-2RmWSjR5STnJxWVZVnE6aW')\n"
     ]
    }
   ],
   "source": [
    "result_list = client.vector_stores.files.list(\n",
    "    vector_store_id = vector_store.id\n",
    ")\n",
    "\n",
    "print(result_list)"
   ]
  },
  {
   "cell_type": "code",
   "execution_count": 12,
   "id": "2e5e433f",
   "metadata": {},
   "outputs": [
    {
     "name": "stdout",
     "output_type": "stream",
     "text": [
      "Response(id='resp_685cd15afe7c819b9912a4edb6e782490e6c65f1a9d8c021', created_at=1750913371.0, error=None, incomplete_details=None, instructions=None, metadata={}, model='gpt-4.1-2025-04-14', object='response', output=[ResponseFileSearchToolCall(id='fs_685cd15c4fa8819b835972be8a844e3a0e6c65f1a9d8c021', queries=['소켓 만드는 방법', 'how to create a socket', '소켓 생성 순서', '소켓 프로그래밍', '소켓 예시'], status='completed', type='file_search_call', results=None), ResponseOutputMessage(id='msg_685cd15ffd00819bb012cf8b492938860e6c65f1a9d8c021', content=[ResponseOutputText(annotations=[AnnotationFileCitation(file_id='file-2RmWSjR5STnJxWVZVnE6aW', filename='howto-sockets.pdf', index=1090, type='file_citation')], text=\"소켓 만드는 방법을 간단하게 설명해드리면 다음과 같습니다:\\n\\n### 1. 소켓 생성\\n먼저, 소켓 객체를 만들어야 합니다. (파이썬 예시)\\n```python\\nimport socket\\ns = socket.socket(socket.AF_INET, socket.SOCK_STREAM)  # INET(IPv4), STREAM(TCP)\\n```\\n- `AF_INET`: IPv4 주소 체계 사용\\n- `SOCK_STREAM`: TCP 사용\\n\\n### 2. 서버 소켓: 주소와 포트 바인딩 (서버일 때만!)\\n```python\\ns.bind(('호스트이름또는IP', 포트번호))\\n```\\n\\n### 3. 서버 소켓: 연결 대기상태로 변경\\n```python\\ns.listen(5)  # 5는 대기 커넥션 수\\n```\\n\\n### 4. 클라이언트 소켓: 서버에 연결\\n```python\\ns.connect(('서버주소', 포트번호))\\n```\\n\\n### 5. 데이터 송수신\\n송신:\\n```python\\ns.send(보낼데이터)\\n```\\n수신:\\n```python\\ndata = s.recv(버퍼크기)\\n```\\n\\n### 6. 소켓 종료\\n```python\\ns.close()\\n```\\n\\n#### 간단 예시(클라이언트):\\n```python\\nimport socket\\ns = socket.socket(socket.AF_INET, socket.SOCK_STREAM)\\ns.connect(('example.com', 80))\\ns.send(b'Hello')\\ndata = s.recv(1024)\\ns.close()\\n```\\n\\n#### 간단 예시(서버):\\n```python\\nimport socket\\nserver = socket.socket(socket.AF_INET, socket.SOCK_STREAM)\\nserver.bind(('localhost', 12345))\\nserver.listen(5)\\nclient, addr = server.accept()\\nclient.send(b'Hello')\\nclient.close()\\nserver.close()\\n```\\n\\n이렇게 소켓은 **생성 → (바인딩/리스닝, 서버 한정) → 연결/접속 → 송수신 → 종료** 순서로 사용하면 됩니다. 상세 코드와 개념은 검색 결과 문서를 참고하면 좋습니다! \", type='output_text', logprobs=None)], role='assistant', status='completed', type='message')], parallel_tool_calls=True, temperature=1.0, tool_choice='required', tools=[FileSearchTool(type='file_search', vector_store_ids=['vs_685cc7b331c88191881fe9376c4fe1ae'], filters=None, max_num_results=20, ranking_options=RankingOptions(ranker='auto', score_threshold=0.0))], top_p=1.0, background=False, max_output_tokens=None, previous_response_id=None, prompt=None, reasoning=Reasoning(effort=None, generate_summary=None, summary=None), service_tier='default', status='completed', text=ResponseTextConfig(format=ResponseFormatText(type='text')), truncation='disabled', usage=ResponseUsage(input_tokens=11911, input_tokens_details=InputTokensDetails(cached_tokens=0), output_tokens=503, output_tokens_details=OutputTokensDetails(reasoning_tokens=0), total_tokens=12414), user=None, max_tool_calls=None, store=True)\n"
     ]
    }
   ],
   "source": [
    "response = client.responses.create(\n",
    "    model = \"gpt-4.1\",\n",
    "    input = \"소켓 만드는 방법을 간단하게 설명해 줘\",\n",
    "    tools = [{\n",
    "        \"type\": \"file_search\",\n",
    "        \"vector_store_ids\": [vector_store.id]\n",
    "        }], \n",
    "        tool_choice=\"required\" \n",
    ")\n",
    "\n",
    "print(response)"
   ]
  },
  {
   "cell_type": "code",
   "execution_count": 14,
   "id": "adc017c0",
   "metadata": {},
   "outputs": [
    {
     "name": "stdout",
     "output_type": "stream",
     "text": [
      "소켓 만드는 방법을 간단하게 설명해드리면 다음과 같습니다:\n",
      "\n",
      "### 1. 소켓 생성\n",
      "먼저, 소켓 객체를 만들어야 합니다. (파이썬 예시)\n",
      "```python\n",
      "import socket\n",
      "s = socket.socket(socket.AF_INET, socket.SOCK_STREAM)  # INET(IPv4), STREAM(TCP)\n",
      "```\n",
      "- `AF_INET`: IPv4 주소 체계 사용\n",
      "- `SOCK_STREAM`: TCP 사용\n",
      "\n",
      "### 2. 서버 소켓: 주소와 포트 바인딩 (서버일 때만!)\n",
      "```python\n",
      "s.bind(('호스트이름또는IP', 포트번호))\n",
      "```\n",
      "\n",
      "### 3. 서버 소켓: 연결 대기상태로 변경\n",
      "```python\n",
      "s.listen(5)  # 5는 대기 커넥션 수\n",
      "```\n",
      "\n",
      "### 4. 클라이언트 소켓: 서버에 연결\n",
      "```python\n",
      "s.connect(('서버주소', 포트번호))\n",
      "```\n",
      "\n",
      "### 5. 데이터 송수신\n",
      "송신:\n",
      "```python\n",
      "s.send(보낼데이터)\n",
      "```\n",
      "수신:\n",
      "```python\n",
      "data = s.recv(버퍼크기)\n",
      "```\n",
      "\n",
      "### 6. 소켓 종료\n",
      "```python\n",
      "s.close()\n",
      "```\n",
      "\n",
      "#### 간단 예시(클라이언트):\n",
      "```python\n",
      "import socket\n",
      "s = socket.socket(socket.AF_INET, socket.SOCK_STREAM)\n",
      "s.connect(('example.com', 80))\n",
      "s.send(b'Hello')\n",
      "data = s.recv(1024)\n",
      "s.close()\n",
      "```\n",
      "\n",
      "#### 간단 예시(서버):\n",
      "```python\n",
      "import socket\n",
      "server = socket.socket(socket.AF_INET, socket.SOCK_STREAM)\n",
      "server.bind(('localhost', 12345))\n",
      "server.listen(5)\n",
      "client, addr = server.accept()\n",
      "client.send(b'Hello')\n",
      "client.close()\n",
      "server.close()\n",
      "```\n",
      "\n",
      "이렇게 소켓은 **생성 → (바인딩/리스닝, 서버 한정) → 연결/접속 → 송수신 → 종료** 순서로 사용하면 됩니다. 상세 코드와 개념은 검색 결과 문서를 참고하면 좋습니다! \n"
     ]
    }
   ],
   "source": [
    "print(response.output_text)"
   ]
  }
 ],
 "metadata": {
  "kernelspec": {
   "display_name": "Python 3",
   "language": "python",
   "name": "python3"
  },
  "language_info": {
   "codemirror_mode": {
    "name": "ipython",
    "version": 3
   },
   "file_extension": ".py",
   "mimetype": "text/x-python",
   "name": "python",
   "nbconvert_exporter": "python",
   "pygments_lexer": "ipython3",
   "version": "3.9.13"
  }
 },
 "nbformat": 4,
 "nbformat_minor": 5
}
