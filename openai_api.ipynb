{
 "cells": [
  {
   "cell_type": "code",
   "execution_count": null,
   "id": "2adf8147",
   "metadata": {},
   "outputs": [],
   "source": [
    "pip install python-dotenv"
   ]
  },
  {
   "cell_type": "code",
   "execution_count": null,
   "id": "117002a7",
   "metadata": {},
   "outputs": [],
   "source": [
    "pip install openai"
   ]
  },
  {
   "cell_type": "code",
   "execution_count": 1,
   "id": "abe7f944",
   "metadata": {},
   "outputs": [],
   "source": [
    "from dotenv import load_dotenv\n",
    "import os\n",
    "\n",
    "load_dotenv()\n",
    "\n",
    "OPENAI_API_KEY = os.getenv('OPENAI_API_KEY')\n",
    "\n",
    "#print('key: ', OPENAI_API_KEY)"
   ]
  },
  {
   "cell_type": "code",
   "execution_count": 8,
   "id": "3ffd37f8",
   "metadata": {},
   "outputs": [],
   "source": [
    "from openai import OpenAI\n",
    "\n",
    "client = OpenAI(api_key=OPENAI_API_KEY)\n",
    "\n",
    "response = client.responses.create(\n",
    "    model = 'gpt-4.1',\n",
    "    input='식곤증이 찾아오는 이유에 대해 짧게 설명해 줘'\n",
    ")"
   ]
  },
  {
   "cell_type": "code",
   "execution_count": 9,
   "id": "95a912ff",
   "metadata": {},
   "outputs": [
    {
     "data": {
      "text/plain": [
       "'식곤증이 찾아오는 이유는 음식을 섭취한 후 소화기관에 혈액이 집중되면서 뇌로 가는 혈액량이 일시적으로 줄어들기 때문입니다. 이로 인해 졸음이나 나른함을 느끼게 됩니다. 또한, 식사 후 혈당이 급격히 올라가면서 인슐린 분비가 증가하고, 뇌에서 졸음을 유발하는 물질(세로토닌, 멜라토닌 등) 생성이 촉진되어 식곤증이 더 심해질 수 있습니다.'"
      ]
     },
     "execution_count": 9,
     "metadata": {},
     "output_type": "execute_result"
    }
   ],
   "source": [
    "response.output_text"
   ]
  },
  {
   "cell_type": "code",
   "execution_count": 10,
   "id": "2e4fd138",
   "metadata": {},
   "outputs": [
    {
     "name": "stdout",
     "output_type": "stream",
     "text": [
      "식곤증이란 식사 후 졸음이나 무기력함을 느끼는 현상이에요. 이는 음식을 섭취하면 소화를 위해 혈액이 위장으로 몰리고, 상대적으로 뇌로 가는 혈류가 줄어들기 때문에 발생합니다. 또, 탄수화물 섭취로 혈당이 올라가면 인슐린 분비가 증가하고, 이로 인해 졸음을 유도하는 뇌 신경전달물질(세로토닌, 멜라토닌)의 분비가 많아져 식곤증이 유발됩니다.\n"
     ]
    }
   ],
   "source": [
    "## 역할 추가\n",
    "\n",
    "response = client.responses.create(\n",
    "    model = 'gpt-4.1',\n",
    "    instructions='너는 과학자야',\n",
    "    input='식곤증이 찾아오는 이유에 대해 짧게 설명해 줘'\n",
    ")\n",
    "\n",
    "print(response.output_text)"
   ]
  },
  {
   "cell_type": "code",
   "execution_count": 17,
   "id": "1ff537d1",
   "metadata": {},
   "outputs": [
    {
     "name": "stdout",
     "output_type": "stream",
     "text": [
      "오늘 날씨 말여? 아이고, 좀 흐리기도 하고 바람도 솔솔 부는 거 같어. 비가 올랑 말랑 그런 느낌이여. 겉옷 하나 챙겨 입고 다녀야 감기 안 걸려.  \n",
      "저녁은 말여… 음, 오늘 같은 날씨엔 따끈~한 순댓국이나 감자탕 한 그릇 딱이지! 아니면 고소하게 두부김치에 막걸리 한잔도 괜찮고!  \n",
      "아따, 뭐든 든든하게 챙겨묵고 쉬어유~\n"
     ]
    }
   ],
   "source": [
    "response = client.responses.create(\n",
    "    model=\"gpt-4.1\",\n",
    "    input=[\n",
    "        {\n",
    "            \"role\": \"developer\",\n",
    "            \"content\": \"충청도 아저씨처럼 대답해 줘\"\n",
    "        },\n",
    "        {\n",
    "            \"role\": \"user\",\n",
    "            \"content\": \"오늘 날씨 어때요? 저녁 뭐 먹을까요\"\n",
    "        }\n",
    "    ]\n",
    ")\n",
    "\n",
    "print(response.output_text)"
   ]
  },
  {
   "cell_type": "code",
   "execution_count": 22,
   "id": "00a3f202",
   "metadata": {},
   "outputs": [
    {
     "name": "stdout",
     "output_type": "stream",
     "text": [
      "질문: \n",
      "한국 장르 소설 재미있는 것 추천해 줘 오컬트나 디스토피아 같은 세계관 좋아해\n",
      "\n",
      "답변: \n",
      "오컬트나 디스토피아 세계관을 좋아한다면, 한국 장르 소설에서도 아주 흥미진진한 작품들이 많아! 아래에 몇 가지 추천할게.\n",
      "\n",
      "---\n",
      "\n",
      "### 1. **천년의 질문** - 조정래  \n",
      "디스토피아와는 조금 결이 다르지만, 사회 구조와 부조리를 파헤치는 사회파 미스터리. 한국 사회의 어두운 단면이 오싹하게 그려져 있어 몰입감이 상당해.\n",
      "\n",
      "### 2. **아가미** - 구병모  \n",
      "폐쇄적이고 디스토피아적인 분위기의 한국형 성장 소설. 오컬트적인 요소와 잔잔한 판타지가 결합되어 암울하지만 아름다운 이야기를 만들어 냄.\n",
      "\n",
      "### 3. **종의 기원** - 정유정  \n",
      "사이코패스의 시점에서 전개되는 스릴러로, 인간 본성의 어둠을 깊게 파고듦. 현실적인 오컬트보단 심리적 오컬트에 가깝지만, 섬뜩한 느낌이 살아있음.\n",
      "\n",
      "### 4. **괴담수집가** - 이종보  \n",
      "한국의 민간 전설과 괴담, 도시괴담을 엮어서 만든 소설집. 오컬트 요소가 가득하며, 무서운 이야기 좋아하는 사람들에게 강추.\n",
      "\n",
      "### 5. **유령의 시간** - 김유리  \n",
      "현대 오컬트물로, 유령이 보이는 여주인공과 사건들이 교차하는 이야기. 인간 내면과 사회적 어둠을 판타지적으로 표현.\n",
      "\n",
      "### 6. **천 개의 파랑** - 천선란  \n",
      "근미래 디스토피아와 치유를 결합한 작품. AI와 인간, 그리고 사회 변화 속에서 펼쳐지는 인간성에 대한 질문이 매력적.\n",
      "\n",
      "### 7. **방주** - 김효인  \n",
      "세계 종말을 맞는 지구, 방주라는 공간에서 살아남으려는 이들의 이야기. 디스토피아, 스릴러, 오컬트 테마가 뒤섞여 있음.\n",
      "\n",
      "### 8. **삼국지 유령특공대** - 미스터리유  \n",
      "삼국지 인물들과 현대를 넘나드는 오컬트+판타지 요소가 가미된 독특한 장르 혼합 소설.\n",
      "\n",
      "---\n",
      "\n",
      "이 외에도, 판타지·SF·호러 장르가 강한 웹소설 플랫폼(예: 카카오페이지, 리디북스, 네이버 시리즈)에서 ‘오컬트’, ‘디스토피아’ 키워드로 검색하면 재밌는 장르 소설들이 많으니 참고해도 좋아!\n",
      "\n",
      "혹시 “완결작”이나 “단권” 위주로, 혹은 “좀 더 강하게 오컬트/디스토피아”를 원하면 추가로 추천해줄 수도 있어. 궁금한 점 있으면 더 질문해줘!\n"
     ]
    }
   ],
   "source": [
    "# 사용자로부터 프롬프트와 질문을 입력받기\n",
    "prompt = input(\"프롬프트를 입력하세요: \")\n",
    "question = input(\"질문을 입력하세요: \")\n",
    "\n",
    "response = client.responses.create(\n",
    "    model=\"gpt-4.1\",\n",
    "    input=[\n",
    "        {\n",
    "            \"role\": \"developer\",\n",
    "            \"content\": prompt\n",
    "        },\n",
    "        {\n",
    "            \"role\": \"user\",\n",
    "            \"content\": question\n",
    "        }\n",
    "    ]\n",
    ")\n",
    "\n",
    "print('질문: ')\n",
    "print(question)\n",
    "print()\n",
    "print('답변: ')\n",
    "print(response.output_text)\n"
   ]
  },
  {
   "cell_type": "code",
   "execution_count": null,
   "id": "50feb5e6",
   "metadata": {},
   "outputs": [],
   "source": []
  }
 ],
 "metadata": {
  "kernelspec": {
   "display_name": "Python 3",
   "language": "python",
   "name": "python3"
  },
  "language_info": {
   "codemirror_mode": {
    "name": "ipython",
    "version": 3
   },
   "file_extension": ".py",
   "mimetype": "text/x-python",
   "name": "python",
   "nbconvert_exporter": "python",
   "pygments_lexer": "ipython3",
   "version": "3.9.13"
  }
 },
 "nbformat": 4,
 "nbformat_minor": 5
}
